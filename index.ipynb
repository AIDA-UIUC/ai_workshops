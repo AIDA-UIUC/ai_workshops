{
 "cells": [
  {
   "cell_type": "markdown",
   "metadata": {},
   "source": [
    "# AIDA AI Workshops\n",
    "\n",
    "> Fall 2020 AI workshops at SIG AIDA"
   ]
  },
  {
   "cell_type": "markdown",
   "metadata": {},
   "source": [
    "This repository contains the notebooks and source code for the website for the SIG AIDA fall 2020 AI workshops."
   ]
  },
  {
   "cell_type": "markdown",
   "metadata": {},
   "source": [
    "## Video Recordings"
   ]
  },
  {
   "cell_type": "markdown",
   "metadata": {},
   "source": [
    "All previous AI workshops have been recorded. You can access the videos here:\n",
    "\n",
    "\n",
    "| Wk | Date   | Workshop | Recording |\n",
    " |----|--------|----------|-----------|\n",
    " | 1  | 31-Aug | N/A | N/A |\n",
    " | 2  | 07-Sep | ??? | N/A |\n",
    " | 3  | 13-Sep | Overview of semester, Intro to numpy | [link](https://illinois.zoom.us/rec/play/ufjbhwqehGt959lRGGTuShVcjeeXLwu1o-aMypOvxLKRh28tVoaUC5IlTF-Tzdt_Fa9ReXWu3h4dRWyV.3R1TaLl7sBzHcDfN) |\n",
    " | 4  | 20-Sep | Linear Regression | [link](https://illinois.zoom.us/rec/play/UCTYCtiGDqv6GhhLpuzRQBcFp2jjpe0yreCui4bvQU0FKBoolPNClnql_dbs_o2GTtMwwfhsON3HvJpg.WoLN_c8L9vTprmAd) |\n",
    " | 5  | 27-Sep | Intro to PyTorch using MNIST | [link](https://illinois.zoom.us/rec/play/1D01EJpBaERRSqJBYg2geGGeAn9hh9BD5Gy2wE5R7S8AEelUPN3yX_MeixIQBp0iz73P_6LwspxVXpBm.PklLs-dsZBWRc8Sv) |\n",
    " | 6  | 04-Oct | XOR Problem | [link](https://illinois.zoom.us/rec/play/gNJRM-DMRxQCayBD5XFciTqRECbbufK_J67UEntu7SjeF0X-XyL_4jNUK6exxspizUtNaDavDwxp-Bp1.ZMM-TLnBQ_mOe76U) |\n",
    " | 7  | 11-Oct | ??? | N/A |\n",
    " | 8  | 18-Oct | FastAI 1: Image Classification | [link](https://illinois.zoom.us/rec/play/GuXBcAf2h8hVTzHNKu8HoawkJJ1YpuBKGzdVb-ymkcJtjQP9sP0whb0KOi7-kmYMuoRnAtJLlB0B0IcX.Mxk4Zfg5fSGVIdiQ) |\n",
    " | 9  | 25-Oct | FastAI 2: Data Augmentation | [link](https://illinois.zoom.us/rec/play/sj5iMK6grGq0pwPtTO2XkoFHpyrtkXsvkiPT28fQvFi49lO9O6LUXgfzmHyBrpU4XU1_iHlOa8Jqet3N.TrsELXMEPrJGcRL2) |\n",
    " | 10 | 01-Nov | FastAI 3: Semantic Segmentation | [link](https://illinois.zoom.us/rec/play/4NmR_NXa1DSU_xE4F7T-GHxfdo8ZbSh95AZLkG21SozLqL_sqvl8tjL05YHBO7cGmztYznL-6sTMH__1.s4_tFqtZtq9M_MNa) |\n",
    " | 11 | 08-Nov | FastAI 4: Deep Learning | [link](https://illinois.zoom.us/rec/play/RAwtidPlYZSEo8OsQ9JLgojRlhB7e9Qy5QTBEXOvWzfq-OZ5NDPvt8IBMJTIT2n2uJguJa3qj_CVGbf8.d0-27f38-Vo5Bjfi) |\n",
    " | 12 | 15-Nov | TBD | TBD |\n",
    " | 13 | 22-Nov | Thanksgiving Break | --- |\n",
    " | 14 | 29-Nov | Thanksgiving Break | --- |\n",
    " | 15 | 06-Dec | TBD | TBD |\n",
    " | 16 | 13-Dec | Finals! Good Luck! | --- |"
   ]
  },
  {
   "cell_type": "markdown",
   "metadata": {},
   "source": [
    "## Join Us over at the ACM Slack!"
   ]
  },
  {
   "cell_type": "markdown",
   "metadata": {},
   "source": [
    "Don't miss out on announcements/events by joining us at https://acm-uiuc.slack.com at `#sigaida`"
   ]
  }
 ],
 "metadata": {
  "kernelspec": {
   "display_name": "Python 3",
   "language": "python",
   "name": "python3"
  },
  "language_info": {
   "codemirror_mode": {
    "name": "ipython",
    "version": 3
   },
   "file_extension": ".py",
   "mimetype": "text/x-python",
   "name": "python",
   "nbconvert_exporter": "python",
   "pygments_lexer": "ipython3",
   "version": "3.8.5"
  }
 },
 "nbformat": 4,
 "nbformat_minor": 2
}
