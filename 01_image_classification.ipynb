{
 "cells": [
  {
   "cell_type": "markdown",
   "metadata": {},
   "source": [
    "# Week 1 - Image Classification\n",
    "\n",
    "> Training a resnet to predict if an image belongs to one of $n$ clases"
   ]
  },
  {
   "cell_type": "code",
   "execution_count": null,
   "metadata": {},
   "outputs": [],
   "source": [
    "#hide\n",
    "from nbdev.showdoc import *"
   ]
  },
  {
   "cell_type": "code",
   "execution_count": null,
   "metadata": {},
   "outputs": [],
   "source": [
    "from fastai.vision.all import *"
   ]
  },
  {
   "cell_type": "markdown",
   "metadata": {},
   "source": [
    "Today, we're going to be \"solving\" a task called image classification using a model called ResNet. By the end of this workshop, you should be able to create and train your own neural networks to solve a wide variety of problems that can be forumlated as image classification. \n",
    "\n",
    "But before we get into neural networks, optimizers, backprop and all that other fancy jargon, it's important to realize that what you should _really_ understand when working with deep learning in the real world is _your_ data.\n",
    "\n",
    "Specifically, I like to think about what the inputs and outputs are. This helps me come up with concrete things to implement in code.\n",
    "\n",
    "In our case, today, we're going to be working on a problem called images classification. So let's consider, at a high level, what the inputs and outputs are."
   ]
  },
  {
   "cell_type": "markdown",
   "metadata": {},
   "source": [
    "## The Data"
   ]
  },
  {
   "cell_type": "markdown",
   "metadata": {},
   "source": [
    "Well, we know that we want to use images as the input, and do something to them. So let's focus on that bit and get a little more specific. Here are some questions you should be asking:\n",
    "\n",
    "1. What images are we going to use?\n",
    "2. Where are they going to come from?\n",
    "3. How are we going to load/store them?\n",
    "4. Finally, what are we actually going to do with them?\n",
    "\n",
    "Let's answer those questions in turn, with specific code snippets as much as possible."
   ]
  },
  {
   "cell_type": "markdown",
   "metadata": {},
   "source": [
    "### What Images to Use?"
   ]
  },
  {
   "cell_type": "markdown",
   "metadata": {},
   "source": [
    "This really isn't complicated at all: use whatever you want!\n",
    "\n",
    "This notebook (and deep learning in general) makes no assumption about what your images are and what they mean to you. In the end, a computer sees an image as bunch of ones and zeros. As long as your images are in some readable format and are not corrupt, pretty much anything goes.\n",
    "\n",
    "Now, one caveat is that we may not be able to make a **good** classifier if you pick images thaat are really hard to classify. But that's an issue that you, the person who's trying to solve the problem, should be thinking about."
   ]
  },
  {
   "cell_type": "markdown",
   "metadata": {},
   "source": [
    "### Where Am I Supposed to Get Image From? "
   ]
  },
  {
   "cell_type": "markdown",
   "metadata": {},
   "source": [
    "Again, not too hard. Barring certain legal restrictions, you can get your images from anywhere!\n",
    "\n",
    "For this particular notebook, we're going to use a dataset called Imagenette (yes, that's how it's spelled, and yes, you're supposed to say that with a French accent). Here's why:\n",
    "\n",
    "1. It's small. So it's fast to download and use.\n",
    "2. It's based on a **very** popular dataset called ImageNet, which is used a lot in research.\n",
    "3. There are plently of results already available, so we a lot to compare to for benchmarking ourselves."
   ]
  },
  {
   "cell_type": "markdown",
   "metadata": {},
   "source": [
    "**But...** Imagenette can only take you so far. It's easy to run demo notebooks on toy datasets. What actually matters at the end of the day is if you're able to train an model on _your_ data that actually works and solves your problem.\n",
    "\n",
    "So, instead of running the Imagenette example like I am, what you should be doing is running this code to train a model on your own dataset.\n",
    "\n",
    "You don't have be curing cancer here. The dataset could be something as simple as collection of family photos, or your favorite comic book characters. In fact, we'll also be showing you how to use a script to exract your own datset from search engine resuts."
   ]
  },
  {
   "cell_type": "markdown",
   "metadata": {},
   "source": [
    "Luckily, fastai provides some nice functionality to download, extract, and load images for us, which we will be using here."
   ]
  },
  {
   "cell_type": "code",
   "execution_count": null,
   "metadata": {},
   "outputs": [
    {
     "data": {
      "text/html": [],
      "text/plain": [
       "<IPython.core.display.HTML object>"
      ]
     },
     "metadata": {},
     "output_type": "display_data"
    }
   ],
   "source": [
    "path = untar_data(URLs.IMAGENETTE)"
   ]
  },
  {
   "cell_type": "code",
   "execution_count": null,
   "metadata": {},
   "outputs": [
    {
     "data": {
      "text/plain": [
       "(#2) [Path('/home/iyaja/.fastai/data/imagenette2/val'),Path('/home/iyaja/.fastai/data/imagenette2/train')]"
      ]
     },
     "execution_count": null,
     "metadata": {},
     "output_type": "execute_result"
    }
   ],
   "source": [
    "path.ls()"
   ]
  },
  {
   "cell_type": "markdown",
   "metadata": {},
   "source": [
    "The Imagenette dataset uses one of the most common deep learning image dataset format. It's generally refered to as the imagenet style, and it looks something like this:"
   ]
  },
  {
   "cell_type": "markdown",
   "metadata": {},
   "source": [
    "One thing you'll notice is that dataset, at a high level, has been split into `train` and `valid` folders. It's important that we don't mix theme up.\n",
    "\n",
    "The training set (labelled as `train`) stores the images that we'll be using to train the model, and the validation set (labelled as `valid`) is completely independant from that."
   ]
  },
  {
   "cell_type": "markdown",
   "metadata": {},
   "source": [
    "### Getting the Data in A Useable Format"
   ]
  },
  {
   "cell_type": "markdown",
   "metadata": {},
   "source": [
    "Using the fastai datablocks api, we can easily assemble the dataset into a perfect format."
   ]
  },
  {
   "cell_type": "code",
   "execution_count": null,
   "metadata": {},
   "outputs": [],
   "source": [
    "data = DataBlock(blocks = (ImageBlock, CategoryBlock),\n",
    "                 get_items = get_image_files,\n",
    "                 get_y = parent_label,\n",
    "                 splitter = GrandparentSplitter(valid_name='val'),\n",
    "                 item_tfms = RandomResizedCrop(128, min_scale=0.35), \n",
    "                 batch_tfms = Normalize.from_stats(*imagenet_stats)\n",
    "                )"
   ]
  },
  {
   "cell_type": "markdown",
   "metadata": {},
   "source": [
    "What we just created and stored in the variable `data` is a DataBlock object. In fastai, a `DataBlock` is one of the most useful tools to manage loading and handling datasets. It automates tasks like getting and loading files, splitting the dataset into training and validation sets, assigning labels to input datapoints, and applying data augmentations or tramsformations.\n",
    "\n",
    "But putting that aside for a second, I'd like to draw your attention to the first parameter of the `DataBlock` contructor. It looks like this:\n",
    "\n",
    "```\n",
    "blocks = (ImageBlock, CategoryBlock)\n",
    "```\n",
    "\n",
    "Again, this really comes back to the idea of really understanding what your inputs and outputs are. Here, we define the \"blocks\" that are important in this dataset. The term \"blocks\" is intentionally general. It makes no assumptions about what your block is. Theoretically, it could an image, a category, a number, , text, audio, video, or anything else you want.\n",
    "\n",
    "A \"block\" makes no assumptions about whether it is an input or output. In general, you can have any of the things I listed above be either an input or an output. By default, when we specify two blocks like we did just now, fastai assumes that the first block is the input, and the second is the output.\n",
    "\n",
    "But what's important, and this really comes to the core deep learning, is that in some sense, it doesn't really matter what your blocks are. Neural nets have been called \"universal function approximators\" for a reason - in theory, they can learn the mapping between datapoints of _any_ type.\n",
    "\n",
    "So as long as you have a dataset to train on and model to do so, you can set up your datablock to solve arbitrary problems, like audio -> audio, image -> text, text -> category, or anything else you set your mind to."
   ]
  },
  {
   "cell_type": "markdown",
   "metadata": {},
   "source": [
    "The Datablock provides access to a lot of high-level functionality for us. But additionally, we have a `DataLoaders` class that provides access "
   ]
  },
  {
   "cell_type": "code",
   "execution_count": null,
   "metadata": {},
   "outputs": [],
   "source": [
    "dls = data.dataloaders(path)"
   ]
  },
  {
   "cell_type": "markdown",
   "metadata": {},
   "source": [
    "Do not confuse `DataLoaders` with `DataLoader` (the difference being an additional \"s\" to indicate plurality). `DataLoaders` is still a fastai class, while `DataLoader` is the PyTorch class we discussed earlier."
   ]
  },
  {
   "cell_type": "markdown",
   "metadata": {},
   "source": [
    "Among it's many useful features is the `show_batch` function that does exactly as it's name suggests."
   ]
  },
  {
   "cell_type": "code",
   "execution_count": null,
   "metadata": {},
   "outputs": [],
   "source": [
    "dls.show_batch()"
   ]
  },
  {
   "cell_type": "markdown",
   "metadata": {},
   "source": [
    "Now that we have a way to directly access all the data we need (images and their labels) in the right format (PyTorch tensors, which are used internally by fastai), we have concluded the data preperation phase.\n",
    "\n",
    "While fastai certainly makes it simpler, most of the time, it will not be this easy. Many professional data scientists claim that perparing the dataset is most time consuming task of them all. This is because we usually don't have a clean dataset like Imagenette to work with in the real world, and ethically collecting data that accurately represents the distribution of the real world is not an easy task."
   ]
  },
  {
   "cell_type": "markdown",
   "metadata": {},
   "source": [
    "## The Model"
   ]
  },
  {
   "cell_type": "markdown",
   "metadata": {},
   "source": [
    "Here's how to train a ResNet18 on the dataset we just prepared:"
   ]
  },
  {
   "cell_type": "code",
   "execution_count": null,
   "metadata": {},
   "outputs": [],
   "source": [
    "learn = cnn_learner(dls, resnet18, metrics=accuracy)"
   ]
  },
  {
   "cell_type": "code",
   "execution_count": null,
   "metadata": {},
   "outputs": [
    {
     "data": {
      "text/html": [
       "<table border=\"1\" class=\"dataframe\">\n",
       "  <thead>\n",
       "    <tr style=\"text-align: left;\">\n",
       "      <th>epoch</th>\n",
       "      <th>train_loss</th>\n",
       "      <th>valid_loss</th>\n",
       "      <th>accuracy</th>\n",
       "      <th>time</th>\n",
       "    </tr>\n",
       "  </thead>\n",
       "  <tbody>\n",
       "    <tr>\n",
       "      <td>0</td>\n",
       "      <td>0.513884</td>\n",
       "      <td>0.247338</td>\n",
       "      <td>0.926624</td>\n",
       "      <td>00:09</td>\n",
       "    </tr>\n",
       "  </tbody>\n",
       "</table>"
      ],
      "text/plain": [
       "<IPython.core.display.HTML object>"
      ]
     },
     "metadata": {},
     "output_type": "display_data"
    },
    {
     "data": {
      "text/html": [
       "<table border=\"1\" class=\"dataframe\">\n",
       "  <thead>\n",
       "    <tr style=\"text-align: left;\">\n",
       "      <th>epoch</th>\n",
       "      <th>train_loss</th>\n",
       "      <th>valid_loss</th>\n",
       "      <th>accuracy</th>\n",
       "      <th>time</th>\n",
       "    </tr>\n",
       "  </thead>\n",
       "  <tbody>\n",
       "    <tr>\n",
       "      <td>0</td>\n",
       "      <td>0.246854</td>\n",
       "      <td>0.187095</td>\n",
       "      <td>0.944459</td>\n",
       "      <td>00:11</td>\n",
       "    </tr>\n",
       "    <tr>\n",
       "      <td>1</td>\n",
       "      <td>0.214951</td>\n",
       "      <td>0.167641</td>\n",
       "      <td>0.947516</td>\n",
       "      <td>00:11</td>\n",
       "    </tr>\n",
       "    <tr>\n",
       "      <td>2</td>\n",
       "      <td>0.148322</td>\n",
       "      <td>0.140674</td>\n",
       "      <td>0.954904</td>\n",
       "      <td>00:11</td>\n",
       "    </tr>\n",
       "    <tr>\n",
       "      <td>3</td>\n",
       "      <td>0.100381</td>\n",
       "      <td>0.134767</td>\n",
       "      <td>0.956688</td>\n",
       "      <td>00:11</td>\n",
       "    </tr>\n",
       "    <tr>\n",
       "      <td>4</td>\n",
       "      <td>0.087135</td>\n",
       "      <td>0.131774</td>\n",
       "      <td>0.957707</td>\n",
       "      <td>00:11</td>\n",
       "    </tr>\n",
       "  </tbody>\n",
       "</table>"
      ],
      "text/plain": [
       "<IPython.core.display.HTML object>"
      ]
     },
     "metadata": {},
     "output_type": "display_data"
    }
   ],
   "source": [
    "learn.fine_tune(5)"
   ]
  },
  {
   "cell_type": "markdown",
   "metadata": {},
   "source": [
    "While a lot of detail was abstracted away in those two lines of code. For a lot of practical purposes, that's about it.\n",
    "\n",
    "The reason we can do that, is because, as I mentioned, deep learning is very general. We make no assumptions about your data. So regardless of what images we use, those two lines of code that we just ran will remain the same.\n",
    "\n",
    "But what exactly is going on here? It's nice to run some code and see numbers pop up on a screen, but that's not enough to comfotably use this network to make predictions in the real world.\n",
    "\n",
    "Firstly, som high-level code details: we just build a fastai `Learner`. This is the other important class you'll be using a lot (the first being the `DataBlock` + `DataLoaders` combo). A learner is a wrapper around a PyTorch model and an optimizer.\n",
    "\n",
    "We'll go through these in detail in the future, but here's the quick version: a model is represented as an `nn.Module` class in PyTorch. This is what is typically referred to as a \"Neural Net\" pretty much everywhere on the internet. The model conatins a set of parameters. Tweaking these parameters (which are just numbers) makes the model do different things.\n",
    "\n",
    "Again, to be entirely clear, let's consider what the inputs and outputs are.\n",
    "\n",
    "The input to our model is the image represented as an array. So this is not a traditional image file but rather, the result of performing some preprocessing and transforms. \n",
    "\n",
    "The output is a class prediction, which is another array that gives the probability of the image belonging to each class."
   ]
  }
 ],
 "metadata": {
  "kernelspec": {
   "display_name": "Python 3",
   "language": "python",
   "name": "python3"
  }
 },
 "nbformat": 4,
 "nbformat_minor": 2
}
